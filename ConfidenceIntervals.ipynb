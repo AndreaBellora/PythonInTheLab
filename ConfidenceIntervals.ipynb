{
 "cells": [
  {
   "cell_type": "markdown",
   "metadata": {},
   "source": [
    "# Exercise 3.5 - Part A \n",
    "\n",
    "Suppose that a quantity x follows a normal distribution with known variance $\\sigma^2=9=32$ but\n",
    "unknown mean $\\mu$. After obtaining these 4 measured values \n",
    "\n",
    "## <center>(2.2,4.3,1.7,6.6)</center>\n",
    "\n",
    "determine:\n",
    "\n",
    "1. the estimate of $\\mu$, its variance and its standard deviation\n",
    "2. the central confidence interval for $\\mu$ at 95% confidence level (C.L.)\n",
    "3. the central confidence interval for $\\mu$ at 90% C.L.\n",
    "4. the central confidence interval for $\\mu$ at 68.27% C.L.\n",
    "5. the lower limit for $\\mu$ at 95% C.L. and at 84.13% C.L.\n",
    "6. the upper limit for $\\mu$ at 95% C.L. and at 84.13% C.L.\n",
    "7. the probability that taking a 5th measurement under the same conditions it will be < 0\n",
    "8. the probability that taking a series of 4 measurements under the same conditions their mean will be < 0\n"
   ]
  },
  {
   "cell_type": "code",
   "execution_count": 14,
   "metadata": {},
   "outputs": [],
   "source": [
    "import sys\n",
    "import ROOT\n",
    "import ROOT.Math as statfunc\n",
    "import numpy as np\n",
    "from scipy.stats import t\n",
    "\n",
    "def gausCI(sample,variance,intervalType='central',confidenceLevel=0.95,verbose=True):\n",
    "    \"\"\"\n",
    "    This function returns the confidence interval or the limit for a certain data sample \n",
    "    belonging to a gaussian distribution of known variance.\n",
    "    intervalType: \n",
    "        Central -> central confidence interval\n",
    "        Upper   -> upper limit\n",
    "        Lower   -> lower limit\n",
    "    \"\"\"\n",
    "    \n",
    "    # Check the size ofthe sample\n",
    "    sampleSize = len(sample)\n",
    "    if sampleSize == 0:\n",
    "        print('Empty sample found! Exiting...')\n",
    "        sys.exit(1)\n",
    "        \n",
    "    # Check the size ofthe sample\n",
    "    mean = sample.mean()\n",
    "    meanVariance = variance/sampleSize\n",
    "\n",
    "    # Compute some statistical variables from the sample\n",
    "    if intervalType.upper() == 'CENTRAL':\n",
    "        beta = (1 - confidenceLevel)/2\n",
    "    elif intervalType.upper() == 'LOWER' or intervalType.upper() == 'UPPER':\n",
    "        beta = (1 - confidenceLevel)\n",
    "    else:\n",
    "        print('Unknown interval type! Exiting...')\n",
    "        sys.exit(1)\n",
    "        \n",
    "    # Compute the upper and lower limit of the confidence interval        \n",
    "    meanStd = np.sqrt(meanVariance)\n",
    "    upperLimit = mean - statfunc.normal_quantile(beta, meanStd) \n",
    "    lowerLimit = mean - statfunc.normal_quantile_c(beta, meanStd)\n",
    "  \n",
    "    # Print out some information\n",
    "    if verbose:\n",
    "        if intervalType.upper() == 'CENTRAL':\n",
    "            print('{:.2f}% Central Confidence Interval: [{:.2f},{:.2f}]'.format(confidenceLevel*100,lowerLimit,upperLimit))\n",
    "            return (lowerLimit,upperLimit)\n",
    "        elif intervalType.upper() == 'UPPER':\n",
    "            print('{:.2f}% Upper limit: {:.2f}'.format(confidenceLevel*100,upperLimit))\n",
    "            return (upperLimit)\n",
    "        elif intervalType.upper() == 'LOWER':\n",
    "            print('{:.2f}% Lower limit: {:.2f}'.format(confidenceLevel*100,lowerLimit))\n",
    "            return (lowerLimit)\n",
    "        \n",
    "def tdistributionCI(sample,intervalType='central',confidenceLevel=0.95,verbose=True):\n",
    "    \"\"\"\n",
    "    This function returns the confidence interval or the limit for a certain data sample \n",
    "    belonging to a t distribution of known variance.\n",
    "    intervalType: \n",
    "        Central -> central confidence interval\n",
    "        Upper   -> upper limit\n",
    "        Lower   -> lower limit\n",
    "    \"\"\"\n",
    "    \n",
    "    # Check the size ofthe sample\n",
    "    sampleSize = len(sample)\n",
    "    if sampleSize == 0:\n",
    "        print('Empty sample found! Exiting...')\n",
    "        sys.exit(1)\n",
    "    \n",
    "    # Compute some statistical variables from the sample\n",
    "    mean = sample.mean()\n",
    "    variance = sample.var()\n",
    "    dof = sampleSize - 1\n",
    "    \n",
    "    # Compute the percentiles b-levels whether the interval required is central, lower or upper\n",
    "    if intervalType.upper() == 'CENTRAL':\n",
    "        beta = (1 - confidenceLevel)/2\n",
    "    elif intervalType.upper() == 'LOWER' or intervalType.upper() == 'UPPER':\n",
    "        beta = (1 - confidenceLevel)\n",
    "    else:\n",
    "        print('Unknown interval type! Exiting...')\n",
    "        sys.exit(1)\n",
    "    \n",
    "    # Compute the upper and lower limit of the confidence interval\n",
    "    upperLimit = mean - t.ppf(beta, dof) * np.sqrt(variance / dof)\n",
    "    lowerLimit = mean - t.ppf(1-beta, dof) * np.sqrt(variance / dof)\n",
    "    \n",
    "    # Print out some information\n",
    "    if verbose:\n",
    "        if intervalType.upper() == 'CENTRAL':\n",
    "            print('{:.2f}% Central Confidence Interval: [{:.2f},{:.2f}]'.format(confidenceLevel*100,lowerLimit,upperLimit))\n",
    "            return (lowerLimit,upperLimit)\n",
    "        elif intervalType.upper() == 'UPPER':\n",
    "            print('{:.2f}% Upper limit: {:.2f}'.format(confidenceLevel*100,upperLimit))\n",
    "            return (upperLimit)\n",
    "        elif intervalType.upper() == 'LOWER':\n",
    "            print('{:.2f}% Lower limit: {:.2f}'.format(confidenceLevel*100,lowerLimit))\n",
    "            return (lowerLimit)"
   ]
  },
  {
   "cell_type": "code",
   "execution_count": 2,
   "metadata": {},
   "outputs": [],
   "source": [
    "data = (2.2,4.3,1.7,6.6)\n",
    "variance = 9\n",
    "sample = np.array(data)"
   ]
  },
  {
   "cell_type": "markdown",
   "metadata": {},
   "source": [
    "## 1. "
   ]
  },
  {
   "cell_type": "code",
   "execution_count": 3,
   "metadata": {},
   "outputs": [
    {
     "name": "stdout",
     "output_type": "stream",
     "text": [
      "Mean: 3.70\n",
      "Variance of the mean: 2.25\n",
      "Standard deviation of the mean: 1.50\n"
     ]
    }
   ],
   "source": [
    "print('Mean: {:.2f}'.format(sample.mean()))\n",
    "if len(sample) == 0:\n",
    "    print('The sample is empty! Exiting...')\n",
    "else:\n",
    "    print('Variance of the mean: {:.2f}'.format(variance/len(sample)))\n",
    "    print('Standard deviation of the mean: {:.2f}'.format(np.sqrt(variance/len(sample))))"
   ]
  },
  {
   "cell_type": "markdown",
   "metadata": {},
   "source": [
    "## 2."
   ]
  },
  {
   "cell_type": "code",
   "execution_count": 4,
   "metadata": {},
   "outputs": [
    {
     "name": "stdout",
     "output_type": "stream",
     "text": [
      "95.00% Central Confidence Interval: [0.76,6.64]\n"
     ]
    }
   ],
   "source": [
    "ci = gausCI(sample,variance)"
   ]
  },
  {
   "cell_type": "markdown",
   "metadata": {},
   "source": [
    "## 3."
   ]
  },
  {
   "cell_type": "code",
   "execution_count": 5,
   "metadata": {
    "scrolled": true
   },
   "outputs": [
    {
     "name": "stdout",
     "output_type": "stream",
     "text": [
      "90.00% Central Confidence Interval: [1.23,6.17]\n"
     ]
    }
   ],
   "source": [
    "ci = gausCI(sample,variance,'central',0.90)"
   ]
  },
  {
   "cell_type": "markdown",
   "metadata": {},
   "source": [
    "## 4."
   ]
  },
  {
   "cell_type": "code",
   "execution_count": 6,
   "metadata": {},
   "outputs": [
    {
     "name": "stdout",
     "output_type": "stream",
     "text": [
      "68.27% Central Confidence Interval: [2.20,5.20]\n"
     ]
    }
   ],
   "source": [
    "ci = gausCI(sample,variance,'central',0.6827)"
   ]
  },
  {
   "cell_type": "markdown",
   "metadata": {},
   "source": [
    "## 5."
   ]
  },
  {
   "cell_type": "code",
   "execution_count": 7,
   "metadata": {},
   "outputs": [
    {
     "name": "stdout",
     "output_type": "stream",
     "text": [
      "95.00% Lower limit: 1.23\n",
      "84.13% Lower limit: 2.20\n"
     ]
    }
   ],
   "source": [
    "ci = gausCI(sample,variance,'lower',0.95)\n",
    "ci = gausCI(sample,variance,'lower',0.8413)"
   ]
  },
  {
   "cell_type": "markdown",
   "metadata": {},
   "source": [
    "## 6."
   ]
  },
  {
   "cell_type": "code",
   "execution_count": 8,
   "metadata": {},
   "outputs": [
    {
     "name": "stdout",
     "output_type": "stream",
     "text": [
      "95.00% Upper limit: 6.17\n",
      "84.13% Upper limit: 5.20\n"
     ]
    }
   ],
   "source": [
    "ci = gausCI(sample,variance,'upper',0.95)\n",
    "ci = gausCI(sample,variance,'upper',0.8413)"
   ]
  },
  {
   "cell_type": "markdown",
   "metadata": {},
   "source": [
    "## 7. \n",
    "Given the estimated mean (3.7) and the variance (9) of the distribution, the probability of having a measurement below 0 is:\n",
    "## <center>$P(x<0) = \\frac{1}{\\sqrt{2\\pi}\\sigma} \\int_{-\\infty}^{0} e^{\\frac{(x-\\mu)^2}{2\\sigma^2}}dx$</center>"
   ]
  },
  {
   "cell_type": "code",
   "execution_count": 9,
   "metadata": {},
   "outputs": [
    {
     "name": "stdout",
     "output_type": "stream",
     "text": [
      "The probability of finding x < 0 is: 0.11\n"
     ]
    }
   ],
   "source": [
    "print('The probability of finding x < 0 is: {:.2f}'.format(statfunc.normal_cdf(0,np.sqrt(9),3.7)))"
   ]
  },
  {
   "cell_type": "markdown",
   "metadata": {},
   "source": [
    "## 8. \n",
    "Same as above, but with a variance that is:\n",
    "## <center>$\\sigma^2_{\\mu} = \\frac{\\sigma^2_x}{4}$</center>"
   ]
  },
  {
   "cell_type": "code",
   "execution_count": 10,
   "metadata": {},
   "outputs": [
    {
     "name": "stdout",
     "output_type": "stream",
     "text": [
      "The probability of finding mean x below 0 is: 0.01\n"
     ]
    }
   ],
   "source": [
    "print('The probability of finding mean x below 0 is: {:.2f}'.format(statfunc.normal_cdf(0,np.sqrt(9/4),3.7)))"
   ]
  },
  {
   "cell_type": "markdown",
   "metadata": {},
   "source": [
    "# Exercise 3.5 - Part B\n",
    "\n",
    "Use the same data of part A under the hypothesis that the nature of the problem\n",
    "requires $\\mu$ to be positive (although individual x values may still be negative). Using\n",
    "Table X of Feldman and Cousins, Phys. Rev. D 57 (1998) 3873 compute:\n",
    "\n",
    "1. the central confidence interval for $\\mu$ at 95% confidence level (C.L.)\n",
    "2. the central confidence interval for $\\mu$ at 90% C.L.\n",
    "3. the central confidence interval for $\\mu$ at 68.27% C.L\n",
    "4. compare the results to those obtained in part A (points 2, 3, 4)"
   ]
  },
  {
   "cell_type": "markdown",
   "metadata": {},
   "source": [
    "## 1. \n",
    "For $\\mu = 3.7$ the 95% confidence interval is [1.7,5.66] in sigma units. Since $\\sigma = 1.5$ the interval is [2.55,8.49]"
   ]
  },
  {
   "cell_type": "markdown",
   "metadata": {},
   "source": [
    "## 2. \n",
    "For $\\mu = 3.7$ the 90% confidence interval is [2,5.34] in sigma units. Since $\\sigma = 1.5$ the interval is [3,8.1]"
   ]
  },
  {
   "cell_type": "markdown",
   "metadata": {},
   "source": [
    "## 3.\n",
    "For $\\mu = 3.7$ the 68.27% confidence interval is [2.7,4.7] in sigma units. Since $\\sigma = 1.5$ the interval is [4.05,7.05]"
   ]
  },
  {
   "cell_type": "markdown",
   "metadata": {},
   "source": [
    "# Exercise 3.5 - Part C\n",
    "\n",
    "Use the same data of Exercise No. 4, part A under the hypothesis that both $\\mu$ and $\\sigma$ are unknown. Compute the 95% confidence interval for $\\mu$ in two different ways:\n",
    "1. using for $\\bar{x}$ gaussian distribution with variance equal to the sample variance;\n",
    "2. using the appropriate Student’s t distribution."
   ]
  },
  {
   "cell_type": "markdown",
   "metadata": {},
   "source": [
    "## 1."
   ]
  },
  {
   "cell_type": "code",
   "execution_count": 11,
   "metadata": {},
   "outputs": [
    {
     "name": "stdout",
     "output_type": "stream",
     "text": [
      "The sample variance of the mean is: 3.75\n"
     ]
    }
   ],
   "source": [
    "sampleVariance = sample.var()\n",
    "print('The sample variance of the mean is: {:.2f}'.format(sampleVariance))"
   ]
  },
  {
   "cell_type": "code",
   "execution_count": 12,
   "metadata": {},
   "outputs": [
    {
     "name": "stdout",
     "output_type": "stream",
     "text": [
      "95.00% Central Confidence Interval: [1.80,5.60]\n"
     ]
    }
   ],
   "source": [
    "ci = gausCI(sample,sampleVariance,'central',0.95)"
   ]
  },
  {
   "cell_type": "markdown",
   "metadata": {},
   "source": [
    "## 2."
   ]
  },
  {
   "cell_type": "code",
   "execution_count": 13,
   "metadata": {},
   "outputs": [
    {
     "name": "stdout",
     "output_type": "stream",
     "text": [
      "95.00% Central Confidence Interval: [0.14,7.26]\n"
     ]
    }
   ],
   "source": [
    "ci = tdistributionCI(sample,'central',0.95)"
   ]
  }
 ],
 "metadata": {
  "kernelspec": {
   "display_name": "Python 3",
   "language": "python",
   "name": "python3"
  },
  "language_info": {
   "codemirror_mode": {
    "name": "ipython",
    "version": 3
   },
   "file_extension": ".py",
   "mimetype": "text/x-python",
   "name": "python",
   "nbconvert_exporter": "python",
   "pygments_lexer": "ipython3",
   "version": "3.7.3"
  }
 },
 "nbformat": 4,
 "nbformat_minor": 2
}
